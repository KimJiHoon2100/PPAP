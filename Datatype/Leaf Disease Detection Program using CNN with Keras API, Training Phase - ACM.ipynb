{
 "cells": [
  {
   "cell_type": "markdown",
   "metadata": {},
   "source": [
    "# Leaf Disease Detection Program using CNN with Keras API"
   ]
  },
  {
   "cell_type": "markdown",
   "metadata": {},
   "source": [
    "# Training Phase"
   ]
  },
  {
   "cell_type": "markdown",
   "metadata": {},
   "source": [
    "(1) 사용할 패키지 불러오기"
   ]
  },
  {
   "cell_type": "code",
   "execution_count": 34,
   "metadata": {},
   "outputs": [],
   "source": [
    "import numpy as np\n",
    "import keras\n",
    "%matplotlib inline\n",
    "import matplotlib.pyplot as plt\n",
    "from keras.preprocessing.image import ImageDataGenerator\n",
    "from keras.models import Sequential\n",
    "from keras.layers import Dense\n",
    "from keras.layers import Flatten\n",
    "from keras.layers.convolutional import Conv2D\n",
    "from keras.layers.convolutional import MaxPooling2D\n",
    "from keras.utils.vis_utils import plot_model\n",
    "from keras.models import load_model"
   ]
  },
  {
   "cell_type": "markdown",
   "metadata": {},
   "source": [
    "(2) 데이터 셋 불러오기, 생성하기"
   ]
  },
  {
   "cell_type": "code",
   "execution_count": 35,
   "metadata": {
    "scrolled": true
   },
   "outputs": [
    {
     "name": "stdout",
     "output_type": "stream",
     "text": [
      "Found 4521 images belonging to 4 classes.\n",
      "Found 1133 images belonging to 4 classes.\n"
     ]
    }
   ],
   "source": [
    "np.random.seed(3)\n",
    "\n",
    "train_datagen = ImageDataGenerator(rescale = 1./255,\n",
    "                                   rotation_range = 10,\n",
    "                                   width_shift_range = 10,\n",
    "                                   height_shift_range = 0.2,\n",
    "                                   shear_range = 0.7,\n",
    "                                   zoom_range = [0.9, 2.2],\n",
    "                                   horizontal_flip = True,\n",
    "                                   vertical_flip = True,\n",
    "                                   fill_mode = 'nearest')\n",
    "\n",
    "train_generator = train_datagen.flow_from_directory('rawDataA/train',\n",
    "                                                    target_size = (32,32),\n",
    "                                                    batch_size = 3,\n",
    "                                                    class_mode = 'categorical')\n",
    "\n",
    "test_datagen = ImageDataGenerator(rescale = 1./255)\n",
    "\n",
    "test_generator = test_datagen.flow_from_directory('rawDataA/test',\n",
    "                                                  target_size = (32,32),\n",
    "                                                  batch_size = 3,\n",
    "                                                  class_mode = 'categorical')"
   ]
  },
  {
   "cell_type": "markdown",
   "metadata": {},
   "source": [
    "(3) 학습 모델 구성하기"
   ]
  },
  {
   "cell_type": "code",
   "execution_count": 36,
   "metadata": {},
   "outputs": [],
   "source": [
    "model = Sequential()\n",
    "model.add(Conv2D(32, kernel_size = (3,3), activation = 'relu', input_shape = (32,32,3)))\n",
    "model.add(Conv2D(64, (3,3), activation= 'relu'))\n",
    "model.add(MaxPooling2D(pool_size=(2,2)))\n",
    "model.add(Flatten())\n",
    "model.add(Dense(128, activation = 'relu'))\n",
    "model.add(Dense(4, activation = 'softmax'))"
   ]
  },
  {
   "cell_type": "markdown",
   "metadata": {},
   "source": [
    "(4) 모델 학습과정 설정하기"
   ]
  },
  {
   "cell_type": "code",
   "execution_count": 37,
   "metadata": {},
   "outputs": [],
   "source": [
    "model.compile(loss = 'categorical_crossentropy', optimizer = 'adam', metrics=['accuracy'])"
   ]
  },
  {
   "cell_type": "markdown",
   "metadata": {},
   "source": [
    "(5) 학습 모델 표시하기"
   ]
  },
  {
   "cell_type": "code",
   "execution_count": 38,
   "metadata": {
    "scrolled": true
   },
   "outputs": [
    {
     "name": "stdout",
     "output_type": "stream",
     "text": [
      "_________________________________________________________________\n",
      "Layer (type)                 Output Shape              Param #   \n",
      "=================================================================\n",
      "conv2d_9 (Conv2D)            (None, 30, 30, 32)        896       \n",
      "_________________________________________________________________\n",
      "conv2d_10 (Conv2D)           (None, 28, 28, 64)        18496     \n",
      "_________________________________________________________________\n",
      "max_pooling2d_5 (MaxPooling2 (None, 14, 14, 64)        0         \n",
      "_________________________________________________________________\n",
      "flatten_5 (Flatten)          (None, 12544)             0         \n",
      "_________________________________________________________________\n",
      "dense_9 (Dense)              (None, 128)               1605760   \n",
      "_________________________________________________________________\n",
      "dense_10 (Dense)             (None, 4)                 516       \n",
      "=================================================================\n",
      "Total params: 1,625,668\n",
      "Trainable params: 1,625,668\n",
      "Non-trainable params: 0\n",
      "_________________________________________________________________\n"
     ]
    }
   ],
   "source": [
    "plot_model(model, to_file='modelA.png', show_shapes =True, show_layer_names = True, rankdir = 'TB')\n",
    "model.summary()"
   ]
  },
  {
   "cell_type": "markdown",
   "metadata": {},
   "source": [
    "(6) 모델 학습시키기"
   ]
  },
  {
   "cell_type": "code",
   "execution_count": 39,
   "metadata": {},
   "outputs": [
    {
     "name": "stdout",
     "output_type": "stream",
     "text": [
      "Epoch 1/100\n",
      "15/15 [==============================] - 2s 102ms/step - loss: 1.3975 - acc: 0.4444 - val_loss: 1.0821 - val_acc: 0.6000\n",
      "Epoch 2/100\n",
      "15/15 [==============================] - 1s 73ms/step - loss: 1.3374 - acc: 0.5333 - val_loss: 1.1146 - val_acc: 0.6000\n",
      "Epoch 3/100\n",
      "15/15 [==============================] - 1s 72ms/step - loss: 1.1693 - acc: 0.5778 - val_loss: 1.0025 - val_acc: 0.6000\n",
      "Epoch 4/100\n",
      "15/15 [==============================] - 1s 90ms/step - loss: 1.2506 - acc: 0.5556 - val_loss: 1.0960 - val_acc: 0.6000\n",
      "Epoch 5/100\n",
      "15/15 [==============================] - 2s 101ms/step - loss: 1.3228 - acc: 0.4444 - val_loss: 1.1075 - val_acc: 0.6000\n",
      "Epoch 6/100\n",
      "15/15 [==============================] - 1s 84ms/step - loss: 1.2701 - acc: 0.4222 - val_loss: 0.9886 - val_acc: 0.7333\n",
      "Epoch 7/100\n",
      "15/15 [==============================] - 1s 83ms/step - loss: 0.9977 - acc: 0.7333 - val_loss: 0.9226 - val_acc: 0.6000\n",
      "Epoch 8/100\n",
      "15/15 [==============================] - 1s 69ms/step - loss: 1.1012 - acc: 0.5556 - val_loss: 0.8179 - val_acc: 0.8000\n",
      "Epoch 9/100\n",
      "15/15 [==============================] - 1s 78ms/step - loss: 0.9533 - acc: 0.6889 - val_loss: 0.6057 - val_acc: 0.8000\n",
      "Epoch 10/100\n",
      "15/15 [==============================] - 1s 87ms/step - loss: 0.7850 - acc: 0.7556 - val_loss: 0.7563 - val_acc: 0.8000\n",
      "Epoch 11/100\n",
      "15/15 [==============================] - 1s 77ms/step - loss: 0.8623 - acc: 0.6889 - val_loss: 0.8016 - val_acc: 0.7333\n",
      "Epoch 12/100\n",
      "15/15 [==============================] - 1s 80ms/step - loss: 1.0170 - acc: 0.6667 - val_loss: 0.6694 - val_acc: 0.8000\n",
      "Epoch 13/100\n",
      "15/15 [==============================] - 1s 75ms/step - loss: 0.7291 - acc: 0.7556 - val_loss: 0.8284 - val_acc: 0.8000\n",
      "Epoch 14/100\n",
      "15/15 [==============================] - 1s 96ms/step - loss: 0.6392 - acc: 0.7333 - val_loss: 0.8298 - val_acc: 0.8000\n",
      "Epoch 15/100\n",
      "15/15 [==============================] - 2s 132ms/step - loss: 0.9480 - acc: 0.6667 - val_loss: 0.6356 - val_acc: 0.8000\n",
      "Epoch 16/100\n",
      "15/15 [==============================] - 2s 155ms/step - loss: 0.8778 - acc: 0.6889 - val_loss: 0.7249 - val_acc: 0.8000\n",
      "Epoch 17/100\n",
      "15/15 [==============================] - 2s 149ms/step - loss: 0.7050 - acc: 0.7111 - val_loss: 0.6402 - val_acc: 0.8000\n",
      "Epoch 18/100\n",
      "15/15 [==============================] - 2s 151ms/step - loss: 0.7752 - acc: 0.6889 - val_loss: 0.6309 - val_acc: 0.8000\n",
      "Epoch 19/100\n",
      "15/15 [==============================] - 2s 132ms/step - loss: 0.7423 - acc: 0.7333 - val_loss: 0.7133 - val_acc: 0.8000\n",
      "Epoch 20/100\n",
      "15/15 [==============================] - 2s 125ms/step - loss: 0.6693 - acc: 0.7778 - val_loss: 0.9280 - val_acc: 0.8000\n",
      "Epoch 21/100\n",
      "15/15 [==============================] - 2s 131ms/step - loss: 0.7467 - acc: 0.7778 - val_loss: 0.7863 - val_acc: 0.8000\n",
      "Epoch 22/100\n",
      "15/15 [==============================] - 2s 141ms/step - loss: 0.8679 - acc: 0.6889 - val_loss: 0.6166 - val_acc: 0.8000\n",
      "Epoch 23/100\n",
      "15/15 [==============================] - 2s 142ms/step - loss: 0.9056 - acc: 0.7333 - val_loss: 0.6127 - val_acc: 0.8000\n",
      "Epoch 24/100\n",
      "15/15 [==============================] - 2s 135ms/step - loss: 0.8402 - acc: 0.7111 - val_loss: 0.6388 - val_acc: 0.8000\n",
      "Epoch 25/100\n",
      "15/15 [==============================] - 2s 144ms/step - loss: 0.7770 - acc: 0.7111 - val_loss: 0.5832 - val_acc: 0.8000\n",
      "Epoch 26/100\n",
      "15/15 [==============================] - 2s 151ms/step - loss: 1.0309 - acc: 0.6000 - val_loss: 0.5639 - val_acc: 0.8000\n",
      "Epoch 27/100\n",
      "15/15 [==============================] - 2s 148ms/step - loss: 0.7410 - acc: 0.8000 - val_loss: 0.5455 - val_acc: 0.8000\n",
      "Epoch 28/100\n",
      "15/15 [==============================] - 2s 141ms/step - loss: 0.5828 - acc: 0.8222 - val_loss: 1.1021 - val_acc: 0.5333\n",
      "Epoch 29/100\n",
      "15/15 [==============================] - 2s 151ms/step - loss: 0.9523 - acc: 0.6667 - val_loss: 0.5289 - val_acc: 0.8667\n",
      "Epoch 30/100\n",
      "15/15 [==============================] - 2s 128ms/step - loss: 0.6158 - acc: 0.8000 - val_loss: 0.9025 - val_acc: 0.8000\n",
      "Epoch 31/100\n",
      "15/15 [==============================] - 2s 123ms/step - loss: 0.8235 - acc: 0.6444 - val_loss: 0.6456 - val_acc: 0.7333\n",
      "Epoch 32/100\n",
      "15/15 [==============================] - 2s 135ms/step - loss: 0.6108 - acc: 0.8000 - val_loss: 0.5380 - val_acc: 0.8000\n",
      "Epoch 33/100\n",
      "15/15 [==============================] - 2s 155ms/step - loss: 0.7751 - acc: 0.7111 - val_loss: 0.5252 - val_acc: 0.8000\n",
      "Epoch 34/100\n",
      "15/15 [==============================] - 2s 140ms/step - loss: 0.5122 - acc: 0.8444 - val_loss: 0.5928 - val_acc: 0.8000\n",
      "Epoch 35/100\n",
      "15/15 [==============================] - 2s 140ms/step - loss: 0.9232 - acc: 0.6000 - val_loss: 0.5393 - val_acc: 0.8000\n",
      "Epoch 36/100\n",
      "15/15 [==============================] - 2s 142ms/step - loss: 0.8874 - acc: 0.6667 - val_loss: 0.5888 - val_acc: 0.8000\n",
      "Epoch 37/100\n",
      "15/15 [==============================] - 2s 134ms/step - loss: 0.6157 - acc: 0.8000 - val_loss: 0.7648 - val_acc: 0.8000\n",
      "Epoch 38/100\n",
      "15/15 [==============================] - 2s 127ms/step - loss: 0.7984 - acc: 0.7556 - val_loss: 0.4927 - val_acc: 0.8000\n",
      "Epoch 39/100\n",
      "15/15 [==============================] - 2s 132ms/step - loss: 0.7424 - acc: 0.7333 - val_loss: 0.5052 - val_acc: 0.8667\n",
      "Epoch 40/100\n",
      "15/15 [==============================] - 2s 136ms/step - loss: 0.6994 - acc: 0.7556 - val_loss: 0.5828 - val_acc: 0.8000\n",
      "Epoch 41/100\n",
      "15/15 [==============================] - 2s 137ms/step - loss: 0.6214 - acc: 0.7778 - val_loss: 0.5345 - val_acc: 0.8000\n",
      "Epoch 42/100\n",
      "15/15 [==============================] - 2s 140ms/step - loss: 0.7703 - acc: 0.7333 - val_loss: 0.4913 - val_acc: 0.8667\n",
      "Epoch 43/100\n",
      "15/15 [==============================] - 2s 147ms/step - loss: 0.7128 - acc: 0.7556 - val_loss: 0.4972 - val_acc: 0.8000\n",
      "Epoch 44/100\n",
      "15/15 [==============================] - 2s 141ms/step - loss: 0.5944 - acc: 0.8222 - val_loss: 0.6539 - val_acc: 0.8000\n",
      "Epoch 45/100\n",
      "15/15 [==============================] - 3s 180ms/step - loss: 0.7835 - acc: 0.8000 - val_loss: 0.5031 - val_acc: 0.9333\n",
      "Epoch 46/100\n",
      "15/15 [==============================] - 2s 150ms/step - loss: 0.8714 - acc: 0.6667 - val_loss: 0.4456 - val_acc: 0.8000\n",
      "Epoch 47/100\n",
      "15/15 [==============================] - 2s 143ms/step - loss: 0.7263 - acc: 0.7556 - val_loss: 0.4604 - val_acc: 0.8667\n",
      "Epoch 48/100\n",
      "15/15 [==============================] - 2s 140ms/step - loss: 0.7151 - acc: 0.7778 - val_loss: 0.7962 - val_acc: 0.8000\n",
      "Epoch 49/100\n",
      "15/15 [==============================] - 2s 135ms/step - loss: 0.8559 - acc: 0.6889 - val_loss: 0.5818 - val_acc: 0.7333\n",
      "Epoch 50/100\n",
      "15/15 [==============================] - 2s 138ms/step - loss: 1.0337 - acc: 0.6222 - val_loss: 0.4814 - val_acc: 0.8667\n",
      "Epoch 51/100\n",
      "15/15 [==============================] - 2s 130ms/step - loss: 0.7350 - acc: 0.7778 - val_loss: 0.4887 - val_acc: 0.8000\n",
      "Epoch 52/100\n",
      "15/15 [==============================] - 2s 144ms/step - loss: 0.6274 - acc: 0.8222 - val_loss: 0.4894 - val_acc: 0.9333\n",
      "Epoch 53/100\n",
      "15/15 [==============================] - 2s 135ms/step - loss: 0.7687 - acc: 0.7556 - val_loss: 0.6908 - val_acc: 0.8000\n",
      "Epoch 54/100\n",
      "15/15 [==============================] - 2s 132ms/step - loss: 0.7880 - acc: 0.7111 - val_loss: 0.7484 - val_acc: 0.7333\n",
      "Epoch 55/100\n",
      "15/15 [==============================] - 2s 131ms/step - loss: 0.6790 - acc: 0.7111 - val_loss: 0.4455 - val_acc: 0.8667\n",
      "Epoch 56/100\n",
      "15/15 [==============================] - 2s 143ms/step - loss: 0.4867 - acc: 0.8222 - val_loss: 0.5158 - val_acc: 0.9333\n",
      "Epoch 57/100\n",
      "15/15 [==============================] - 2s 149ms/step - loss: 0.7799 - acc: 0.7333 - val_loss: 0.4712 - val_acc: 0.8667\n",
      "Epoch 58/100\n",
      "15/15 [==============================] - 2s 149ms/step - loss: 0.8005 - acc: 0.7333 - val_loss: 0.4435 - val_acc: 0.8667\n",
      "Epoch 59/100\n",
      "15/15 [==============================] - 2s 149ms/step - loss: 0.6576 - acc: 0.7778 - val_loss: 0.4801 - val_acc: 0.9333\n",
      "Epoch 60/100\n",
      "15/15 [==============================] - 2s 132ms/step - loss: 0.5851 - acc: 0.7778 - val_loss: 0.5438 - val_acc: 0.8667\n",
      "Epoch 61/100\n",
      "15/15 [==============================] - 2s 127ms/step - loss: 0.7011 - acc: 0.8000 - val_loss: 0.4831 - val_acc: 0.8667\n",
      "Epoch 62/100\n"
     ]
    },
    {
     "name": "stdout",
     "output_type": "stream",
     "text": [
      "15/15 [==============================] - 2s 147ms/step - loss: 0.5016 - acc: 0.8667 - val_loss: 0.4782 - val_acc: 0.8000\n",
      "Epoch 63/100\n",
      "15/15 [==============================] - 2s 154ms/step - loss: 0.4716 - acc: 0.8667 - val_loss: 0.4896 - val_acc: 0.8000\n",
      "Epoch 64/100\n",
      "15/15 [==============================] - 2s 122ms/step - loss: 0.7579 - acc: 0.6889 - val_loss: 0.6325 - val_acc: 0.7333\n",
      "Epoch 65/100\n",
      "15/15 [==============================] - 2s 126ms/step - loss: 0.7171 - acc: 0.7778 - val_loss: 0.4639 - val_acc: 0.8667\n",
      "Epoch 66/100\n",
      "15/15 [==============================] - 2s 123ms/step - loss: 0.7676 - acc: 0.7111 - val_loss: 0.4843 - val_acc: 0.8667\n",
      "Epoch 67/100\n",
      "15/15 [==============================] - 2s 141ms/step - loss: 0.8653 - acc: 0.7333 - val_loss: 0.4466 - val_acc: 0.8667\n",
      "Epoch 68/100\n",
      "15/15 [==============================] - 2s 123ms/step - loss: 0.6437 - acc: 0.7333 - val_loss: 0.4466 - val_acc: 0.8667\n",
      "Epoch 69/100\n",
      "15/15 [==============================] - 2s 126ms/step - loss: 0.6432 - acc: 0.7556 - val_loss: 0.4602 - val_acc: 0.8667\n",
      "Epoch 70/100\n",
      "15/15 [==============================] - 2s 137ms/step - loss: 0.7618 - acc: 0.6889 - val_loss: 0.4481 - val_acc: 0.8667\n",
      "Epoch 71/100\n",
      "15/15 [==============================] - 2s 127ms/step - loss: 0.6801 - acc: 0.7111 - val_loss: 0.4129 - val_acc: 0.9333\n",
      "Epoch 72/100\n",
      "15/15 [==============================] - 2s 158ms/step - loss: 0.8921 - acc: 0.6444 - val_loss: 0.5797 - val_acc: 0.8667\n",
      "Epoch 73/100\n",
      "15/15 [==============================] - 2s 131ms/step - loss: 0.8637 - acc: 0.6889 - val_loss: 0.6222 - val_acc: 0.8000\n",
      "Epoch 74/100\n",
      "15/15 [==============================] - 2s 151ms/step - loss: 0.7323 - acc: 0.7778 - val_loss: 0.4760 - val_acc: 0.8000\n",
      "Epoch 75/100\n",
      "15/15 [==============================] - 2s 141ms/step - loss: 0.5860 - acc: 0.8444 - val_loss: 0.5560 - val_acc: 0.8000\n",
      "Epoch 76/100\n",
      "15/15 [==============================] - 2s 135ms/step - loss: 0.6275 - acc: 0.8000 - val_loss: 0.4732 - val_acc: 0.9333\n",
      "Epoch 77/100\n",
      "15/15 [==============================] - 3s 169ms/step - loss: 0.5507 - acc: 0.8444 - val_loss: 0.4719 - val_acc: 0.8000\n",
      "Epoch 78/100\n",
      "15/15 [==============================] - 3s 182ms/step - loss: 0.8026 - acc: 0.7333 - val_loss: 0.6970 - val_acc: 0.8000\n",
      "Epoch 79/100\n",
      "15/15 [==============================] - 2s 154ms/step - loss: 0.6556 - acc: 0.7333 - val_loss: 0.6235 - val_acc: 0.8000\n",
      "Epoch 80/100\n",
      "15/15 [==============================] - 2s 159ms/step - loss: 0.8669 - acc: 0.6444 - val_loss: 0.4666 - val_acc: 0.8667\n",
      "Epoch 81/100\n",
      "15/15 [==============================] - 2s 166ms/step - loss: 0.7309 - acc: 0.7333 - val_loss: 0.4599 - val_acc: 0.8667\n",
      "Epoch 82/100\n",
      "15/15 [==============================] - 2s 141ms/step - loss: 0.6130 - acc: 0.8444 - val_loss: 0.4295 - val_acc: 0.8667\n",
      "Epoch 83/100\n",
      "15/15 [==============================] - 2s 125ms/step - loss: 0.7118 - acc: 0.6889 - val_loss: 0.4420 - val_acc: 0.8667\n",
      "Epoch 84/100\n",
      "15/15 [==============================] - 2s 131ms/step - loss: 0.7393 - acc: 0.7333 - val_loss: 0.6315 - val_acc: 0.8000\n",
      "Epoch 85/100\n",
      "15/15 [==============================] - 2s 130ms/step - loss: 0.6760 - acc: 0.7556 - val_loss: 0.5755 - val_acc: 0.8000\n",
      "Epoch 86/100\n",
      "15/15 [==============================] - 2s 151ms/step - loss: 0.9492 - acc: 0.6667 - val_loss: 0.5814 - val_acc: 0.8000\n",
      "Epoch 87/100\n",
      "15/15 [==============================] - 2s 143ms/step - loss: 0.5860 - acc: 0.8667 - val_loss: 0.5677 - val_acc: 0.8000\n",
      "Epoch 88/100\n",
      "15/15 [==============================] - 3s 176ms/step - loss: 0.7371 - acc: 0.8000 - val_loss: 0.6374 - val_acc: 0.8000\n",
      "Epoch 89/100\n",
      "15/15 [==============================] - 2s 167ms/step - loss: 0.8482 - acc: 0.7111 - val_loss: 0.4735 - val_acc: 0.8667\n",
      "Epoch 90/100\n",
      "15/15 [==============================] - 2s 152ms/step - loss: 0.7291 - acc: 0.7778 - val_loss: 0.4987 - val_acc: 0.8667\n",
      "Epoch 91/100\n",
      "15/15 [==============================] - 2s 150ms/step - loss: 0.5551 - acc: 0.8222 - val_loss: 0.8858 - val_acc: 0.6667\n",
      "Epoch 92/100\n",
      "15/15 [==============================] - 2s 147ms/step - loss: 0.6829 - acc: 0.7556 - val_loss: 0.7134 - val_acc: 0.8000\n",
      "Epoch 93/100\n",
      "15/15 [==============================] - 2s 137ms/step - loss: 0.4708 - acc: 0.8222 - val_loss: 0.5460 - val_acc: 0.8667\n",
      "Epoch 94/100\n",
      "15/15 [==============================] - 2s 118ms/step - loss: 0.9267 - acc: 0.6444 - val_loss: 0.4530 - val_acc: 0.8667\n",
      "Epoch 95/100\n",
      "15/15 [==============================] - 1s 87ms/step - loss: 0.5882 - acc: 0.7778 - val_loss: 0.4900 - val_acc: 0.8000\n",
      "Epoch 96/100\n",
      "15/15 [==============================] - 1s 84ms/step - loss: 0.7261 - acc: 0.7333 - val_loss: 0.5235 - val_acc: 0.8000\n",
      "Epoch 97/100\n",
      "15/15 [==============================] - 1s 90ms/step - loss: 0.5359 - acc: 0.8222 - val_loss: 0.5470 - val_acc: 0.8000\n",
      "Epoch 98/100\n",
      "15/15 [==============================] - 1s 85ms/step - loss: 0.4250 - acc: 0.8667 - val_loss: 0.5832 - val_acc: 0.8000\n",
      "Epoch 99/100\n",
      "15/15 [==============================] - 1s 95ms/step - loss: 0.6985 - acc: 0.7556 - val_loss: 0.8026 - val_acc: 0.8000\n",
      "Epoch 100/100\n",
      "15/15 [==============================] - 1s 78ms/step - loss: 1.0020 - acc: 0.6222 - val_loss: 0.8674 - val_acc: 0.6667\n"
     ]
    }
   ],
   "source": [
    "class outputImages(keras.callbacks.Callback):\n",
    "    def __init__(self, input_data):\n",
    "        self.input_data = input_data\n",
    "    \n",
    "    def on_epoch_end(self, epoch, logs={}):\n",
    "        if epoch % 10 == 0:\n",
    "            get_model_layers_output_combined_image(self.model, self.input_data)\n",
    "            \n",
    "output_images = outputImages(keras.callbacks.Callback)\n",
    "history = model.fit_generator(\n",
    "        train_generator,\n",
    "        steps_per_epoch=15,\n",
    "        epochs=100,\n",
    "        validation_data=test_generator,\n",
    "        validation_steps=5)"
   ]
  },
  {
   "cell_type": "markdown",
   "metadata": {},
   "source": [
    "(7) 모델 학습 모니터링 하기"
   ]
  },
  {
   "cell_type": "code",
   "execution_count": 40,
   "metadata": {},
   "outputs": [
    {
     "data": {
      "image/png": "[encoded data removed]",
      "text/plain": [
       "<matplotlib.figure.Figure at 0x2b1013935f8>"
      ]
     },
     "metadata": {},
     "output_type": "display_data"
    }
   ],
   "source": [
    "fig, loss_ax = plt.subplots()\n",
    "\n",
    "acc_ax = loss_ax.twinx()\n",
    "\n",
    "loss_ax.plot(history.history['loss'], 'y', label='train loss')\n",
    "loss_ax.plot(history.history['val_loss'], 'r', label='val loss')\n",
    "\n",
    "acc_ax.plot(history.history['acc'], 'b', label='train acc')\n",
    "acc_ax.plot(history.history['val_acc'], 'g', label='val acc')\n",
    "\n",
    "loss_ax.set_xlabel('epoch')\n",
    "loss_ax.set_ylabel('loss')\n",
    "acc_ax.set_ylabel('accuracy')\n",
    "\n",
    "loss_ax.legend(loc='upper left')\n",
    "acc_ax.legend(loc='lower left')\n",
    "\n",
    "plt.show()"
   ]
  },
  {
   "cell_type": "markdown",
   "metadata": {},
   "source": [
    "(8) 검증 모델 테스트 예시"
   ]
  },
  {
   "cell_type": "code",
   "execution_count": 41,
   "metadata": {},
   "outputs": [
    {
     "name": "stdout",
     "output_type": "stream",
     "text": [
      "-- Test --\n",
      "{'mlldew': 0, 'mold': 1, 'mosaic': 2, 'rust': 3}\n",
      "[[0.246 0.322 0.313 0.120]\n",
      " [0.764 0.142 0.059 0.035]\n",
      " [0.304 0.401 0.239 0.056]\n",
      " [0.647 0.166 0.104 0.083]\n",
      " [0.877 0.072 0.033 0.018]\n",
      " [0.000 0.000 0.000 1.000]\n",
      " [0.262 0.388 0.307 0.044]\n",
      " [0.676 0.172 0.105 0.047]\n",
      " [0.163 0.416 0.392 0.029]\n",
      " [0.152 0.477 0.340 0.031]\n",
      " [0.000 0.000 0.000 1.000]\n",
      " [0.146 0.439 0.385 0.030]\n",
      " [0.000 0.000 0.000 1.000]\n",
      " [0.418 0.316 0.209 0.057]\n",
      " [0.145 0.465 0.361 0.029]]\n"
     ]
    }
   ],
   "source": [
    "print(\"-- Test --\")\n",
    "output = model.predict_generator(test_generator, steps=5)\n",
    "np.set_printoptions(formatter={'float': lambda x: \"{0:0.3f}\".format(x)})\n",
    "print(test_generator.class_indices)\n",
    "print(output)"
   ]
  },
  {
   "cell_type": "markdown",
   "metadata": {},
   "source": [
    "(9) 모델 평가하기"
   ]
  },
  {
   "cell_type": "code",
   "execution_count": 42,
   "metadata": {},
   "outputs": [
    {
     "name": "stdout",
     "output_type": "stream",
     "text": [
      "-- Evaluate --\n",
      "acc: 66.67%\n"
     ]
    }
   ],
   "source": [
    "print(\"-- Evaluate --\")\n",
    "scores = model.evaluate_generator(test_generator, steps=5)\n",
    "print(\"%s: %.2f%%\" %(model.metrics_names[1], scores[1]*100))"
   ]
  },
  {
   "cell_type": "markdown",
   "metadata": {},
   "source": [
    "(10) 모델 구조 및 학습된 모델 가중치 저장하기"
   ]
  },
  {
   "cell_type": "code",
   "execution_count": 43,
   "metadata": {},
   "outputs": [],
   "source": [
    "model.save('leaf_diseaseA.h5')\n",
    "with open('model_architectureA.json', 'w') as f:\n",
    "    f.write(model.to_json())"
   ]
  },
  {
   "cell_type": "code",
   "execution_count": null,
   "metadata": {},
   "outputs": [],
   "source": []
  },
  {
   "cell_type": "code",
   "execution_count": null,
   "metadata": {},
   "outputs": [],
   "source": []
  }
 ],
 "metadata": {
  "kernelspec": {
   "display_name": "Python [default]",
   "language": "python",
   "name": "python3"
  },
  "language_info": {
   "codemirror_mode": {
    "name": "ipython",
    "version": 3
   },
   "file_extension": ".py",
   "mimetype": "text/x-python",
   "name": "python",
   "nbconvert_exporter": "python",
   "pygments_lexer": "ipython3",
   "version": "3.6.4"
  }
 },
 "nbformat": 4,
 "nbformat_minor": 2
}
