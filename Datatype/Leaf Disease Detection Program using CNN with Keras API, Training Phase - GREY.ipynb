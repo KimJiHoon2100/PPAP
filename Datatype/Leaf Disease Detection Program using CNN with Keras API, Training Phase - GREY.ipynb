{
 "cells": [
  {
   "cell_type": "markdown",
   "metadata": {},
   "source": [
    "# Leaf Disease Detection Program using CNN with Keras API"
   ]
  },
  {
   "cell_type": "markdown",
   "metadata": {},
   "source": [
    "# Training Phase"
   ]
  },
  {
   "cell_type": "markdown",
   "metadata": {},
   "source": [
    "(1) 사용할 패키지 불러오기"
   ]
  },
  {
   "cell_type": "code",
   "execution_count": 21,
   "metadata": {},
   "outputs": [],
   "source": [
    "import numpy as np\n",
    "import keras\n",
    "%matplotlib inline\n",
    "import matplotlib.pyplot as plt\n",
    "from keras.preprocessing.image import ImageDataGenerator\n",
    "from keras.models import Sequential\n",
    "from keras.layers import Dense\n",
    "from keras.layers import Flatten\n",
    "from keras.layers.convolutional import Conv2D\n",
    "from keras.layers.convolutional import MaxPooling2D\n",
    "from keras.utils.vis_utils import plot_model\n",
    "from keras.models import load_model"
   ]
  },
  {
   "cell_type": "markdown",
   "metadata": {},
   "source": [
    "(2) 데이터 셋 불러오기, 생성하기"
   ]
  },
  {
   "cell_type": "code",
   "execution_count": 22,
   "metadata": {
    "scrolled": true
   },
   "outputs": [
    {
     "name": "stdout",
     "output_type": "stream",
     "text": [
      "Found 4522 images belonging to 4 classes.\n",
      "Found 1134 images belonging to 4 classes.\n"
     ]
    }
   ],
   "source": [
    "np.random.seed(3)\n",
    "\n",
    "train_datagen = ImageDataGenerator(rescale = 1./255,\n",
    "                                   rotation_range = 10,\n",
    "                                   width_shift_range = 10,\n",
    "                                   height_shift_range = 0.2,\n",
    "                                   shear_range = 0.7,\n",
    "                                   zoom_range = [0.9, 2.2],\n",
    "                                   horizontal_flip = True,\n",
    "                                   vertical_flip = True,\n",
    "                                   fill_mode = 'nearest')\n",
    "\n",
    "train_generator = train_datagen.flow_from_directory('rawDataG/train',\n",
    "                                                    target_size = (32,32),\n",
    "                                                    batch_size = 3,\n",
    "                                                    class_mode = 'categorical')\n",
    "\n",
    "test_datagen = ImageDataGenerator(rescale = 1./255)\n",
    "\n",
    "test_generator = test_datagen.flow_from_directory('rawDataG/test',\n",
    "                                                  target_size = (32,32),\n",
    "                                                  batch_size = 3,\n",
    "                                                  class_mode = 'categorical')"
   ]
  },
  {
   "cell_type": "markdown",
   "metadata": {},
   "source": [
    "(3) 학습 모델 구성하기"
   ]
  },
  {
   "cell_type": "code",
   "execution_count": 23,
   "metadata": {},
   "outputs": [],
   "source": [
    "model = Sequential()\n",
    "model.add(Conv2D(32, kernel_size = (3,3), activation = 'relu', input_shape = (32,32,3)))\n",
    "model.add(Conv2D(64, (3,3), activation= 'relu'))\n",
    "model.add(MaxPooling2D(pool_size=(2,2)))\n",
    "model.add(Flatten())\n",
    "model.add(Dense(128, activation = 'relu'))\n",
    "model.add(Dense(4, activation = 'softmax'))"
   ]
  },
  {
   "cell_type": "markdown",
   "metadata": {},
   "source": [
    "(4) 모델 학습과정 설정하기"
   ]
  },
  {
   "cell_type": "code",
   "execution_count": 24,
   "metadata": {},
   "outputs": [],
   "source": [
    "model.compile(loss = 'categorical_crossentropy', optimizer = 'adam', metrics=['accuracy'])"
   ]
  },
  {
   "cell_type": "markdown",
   "metadata": {},
   "source": [
    "(5) 학습 모델 표시하기"
   ]
  },
  {
   "cell_type": "code",
   "execution_count": 25,
   "metadata": {
    "scrolled": true
   },
   "outputs": [
    {
     "name": "stdout",
     "output_type": "stream",
     "text": [
      "_________________________________________________________________\n",
      "Layer (type)                 Output Shape              Param #   \n",
      "=================================================================\n",
      "conv2d_5 (Conv2D)            (None, 30, 30, 32)        896       \n",
      "_________________________________________________________________\n",
      "conv2d_6 (Conv2D)            (None, 28, 28, 64)        18496     \n",
      "_________________________________________________________________\n",
      "max_pooling2d_3 (MaxPooling2 (None, 14, 14, 64)        0         \n",
      "_________________________________________________________________\n",
      "flatten_3 (Flatten)          (None, 12544)             0         \n",
      "_________________________________________________________________\n",
      "dense_5 (Dense)              (None, 128)               1605760   \n",
      "_________________________________________________________________\n",
      "dense_6 (Dense)              (None, 4)                 516       \n",
      "=================================================================\n",
      "Total params: 1,625,668\n",
      "Trainable params: 1,625,668\n",
      "Non-trainable params: 0\n",
      "_________________________________________________________________\n"
     ]
    }
   ],
   "source": [
    "plot_model(model, to_file='modelG.png', show_shapes =True, show_layer_names = True, rankdir = 'TB')\n",
    "model.summary()"
   ]
  },
  {
   "cell_type": "markdown",
   "metadata": {},
   "source": [
    "(6) 모델 학습시키기"
   ]
  },
  {
   "cell_type": "code",
   "execution_count": 26,
   "metadata": {
    "scrolled": false
   },
   "outputs": [
    {
     "name": "stdout",
     "output_type": "stream",
     "text": [
      "Epoch 1/100\n",
      "15/15 [==============================] - 4s 234ms/step - loss: 1.3211 - acc: 0.3778 - val_loss: 1.2237 - val_acc: 0.7333\n",
      "Epoch 2/100\n",
      "15/15 [==============================] - 2s 120ms/step - loss: 1.1312 - acc: 0.6667 - val_loss: 1.1532 - val_acc: 0.7333\n",
      "Epoch 3/100\n",
      "15/15 [==============================] - 2s 141ms/step - loss: 0.7059 - acc: 0.7333 - val_loss: 1.0354 - val_acc: 0.7333\n",
      "Epoch 4/100\n",
      "15/15 [==============================] - 2s 120ms/step - loss: 0.9697 - acc: 0.7333 - val_loss: 0.9873 - val_acc: 0.7333\n",
      "Epoch 5/100\n",
      "15/15 [==============================] - 2s 108ms/step - loss: 0.6934 - acc: 0.7778 - val_loss: 0.9425 - val_acc: 0.7333\n",
      "Epoch 6/100\n",
      "15/15 [==============================] - 2s 122ms/step - loss: 0.8390 - acc: 0.6444 - val_loss: 0.9077 - val_acc: 0.7333\n",
      "Epoch 7/100\n",
      "15/15 [==============================] - 2s 118ms/step - loss: 0.8843 - acc: 0.7111 - val_loss: 0.8930 - val_acc: 0.7333\n",
      "Epoch 8/100\n",
      "15/15 [==============================] - 2s 119ms/step - loss: 0.7248 - acc: 0.7333 - val_loss: 2.0040 - val_acc: 0.1333\n",
      "Epoch 9/100\n",
      "15/15 [==============================] - 2s 142ms/step - loss: 0.7506 - acc: 0.7111 - val_loss: 0.7368 - val_acc: 0.7333\n",
      "Epoch 10/100\n",
      "15/15 [==============================] - 2s 120ms/step - loss: 0.7173 - acc: 0.6889 - val_loss: 1.2078 - val_acc: 0.6000\n",
      "Epoch 11/100\n",
      "15/15 [==============================] - 2s 118ms/step - loss: 0.5577 - acc: 0.8000 - val_loss: 0.9367 - val_acc: 0.6667\n",
      "Epoch 12/100\n",
      "15/15 [==============================] - 2s 118ms/step - loss: 0.8566 - acc: 0.7111 - val_loss: 0.7124 - val_acc: 0.6667\n",
      "Epoch 13/100\n",
      "15/15 [==============================] - 2s 125ms/step - loss: 0.7852 - acc: 0.6889 - val_loss: 0.7810 - val_acc: 0.6667\n",
      "Epoch 14/100\n",
      "15/15 [==============================] - 2s 120ms/step - loss: 0.7992 - acc: 0.7333 - val_loss: 0.7298 - val_acc: 0.7333\n",
      "Epoch 15/100\n",
      "15/15 [==============================] - 2s 115ms/step - loss: 0.6624 - acc: 0.8222 - val_loss: 0.7577 - val_acc: 0.7333\n",
      "Epoch 16/100\n",
      "15/15 [==============================] - 2s 117ms/step - loss: 1.0284 - acc: 0.5778 - val_loss: 0.9356 - val_acc: 0.7333\n",
      "Epoch 17/100\n",
      "15/15 [==============================] - 2s 126ms/step - loss: 0.6446 - acc: 0.8222 - val_loss: 0.9620 - val_acc: 0.6667\n",
      "Epoch 18/100\n",
      "15/15 [==============================] - 2s 106ms/step - loss: 0.7854 - acc: 0.7333 - val_loss: 0.9301 - val_acc: 0.7333\n",
      "Epoch 19/100\n",
      "15/15 [==============================] - 2s 121ms/step - loss: 0.6062 - acc: 0.8000 - val_loss: 0.8628 - val_acc: 0.7333\n",
      "Epoch 20/100\n",
      "15/15 [==============================] - 2s 110ms/step - loss: 0.6110 - acc: 0.8000 - val_loss: 0.7051 - val_acc: 0.8000\n",
      "Epoch 21/100\n",
      "15/15 [==============================] - 2s 112ms/step - loss: 0.6019 - acc: 0.8222 - val_loss: 0.7141 - val_acc: 0.7333\n",
      "Epoch 22/100\n",
      "15/15 [==============================] - 2s 102ms/step - loss: 0.9895 - acc: 0.6000 - val_loss: 0.7955 - val_acc: 0.6667\n",
      "Epoch 23/100\n",
      "15/15 [==============================] - 2s 133ms/step - loss: 0.7217 - acc: 0.7333 - val_loss: 0.8471 - val_acc: 0.6667\n",
      "Epoch 24/100\n",
      "15/15 [==============================] - 2s 150ms/step - loss: 0.7015 - acc: 0.7111 - val_loss: 0.7315 - val_acc: 0.7333\n",
      "Epoch 25/100\n",
      "15/15 [==============================] - 2s 149ms/step - loss: 0.7960 - acc: 0.7111 - val_loss: 1.0150 - val_acc: 0.7333\n",
      "Epoch 26/100\n",
      "15/15 [==============================] - 2s 118ms/step - loss: 0.7433 - acc: 0.7778 - val_loss: 0.8180 - val_acc: 0.7333\n",
      "Epoch 27/100\n",
      "15/15 [==============================] - 2s 117ms/step - loss: 0.9506 - acc: 0.7111 - val_loss: 0.8628 - val_acc: 0.6000\n",
      "Epoch 28/100\n",
      "15/15 [==============================] - 2s 123ms/step - loss: 0.7389 - acc: 0.8222 - val_loss: 0.7769 - val_acc: 0.7333\n",
      "Epoch 29/100\n",
      "15/15 [==============================] - 2s 127ms/step - loss: 0.4553 - acc: 0.8889 - val_loss: 0.8288 - val_acc: 0.7333\n",
      "Epoch 30/100\n",
      "15/15 [==============================] - 2s 132ms/step - loss: 0.7630 - acc: 0.7556 - val_loss: 0.8251 - val_acc: 0.7333\n",
      "Epoch 31/100\n",
      "15/15 [==============================] - 2s 138ms/step - loss: 0.6888 - acc: 0.8222 - val_loss: 0.7432 - val_acc: 0.6667\n",
      "Epoch 32/100\n",
      "15/15 [==============================] - 2s 123ms/step - loss: 0.6925 - acc: 0.7778 - val_loss: 0.8669 - val_acc: 0.7333\n",
      "Epoch 33/100\n",
      "15/15 [==============================] - 2s 123ms/step - loss: 0.4398 - acc: 0.8667 - val_loss: 0.8904 - val_acc: 0.7333\n",
      "Epoch 34/100\n",
      "15/15 [==============================] - 2s 147ms/step - loss: 0.8276 - acc: 0.7556 - val_loss: 0.7683 - val_acc: 0.7333\n",
      "Epoch 35/100\n",
      "15/15 [==============================] - 2s 137ms/step - loss: 0.7627 - acc: 0.7111 - val_loss: 0.7229 - val_acc: 0.8000\n",
      "Epoch 36/100\n",
      "15/15 [==============================] - 2s 111ms/step - loss: 0.5251 - acc: 0.8444 - val_loss: 0.7348 - val_acc: 0.6000\n",
      "Epoch 37/100\n",
      "15/15 [==============================] - 2s 107ms/step - loss: 0.6502 - acc: 0.7548 - val_loss: 0.6464 - val_acc: 0.8000\n",
      "Epoch 38/100\n",
      "15/15 [==============================] - 2s 124ms/step - loss: 0.6795 - acc: 0.7333 - val_loss: 0.8994 - val_acc: 0.6000\n",
      "Epoch 39/100\n",
      "15/15 [==============================] - 2s 106ms/step - loss: 0.7788 - acc: 0.7556 - val_loss: 0.7535 - val_acc: 0.6667\n",
      "Epoch 40/100\n",
      "15/15 [==============================] - 2s 107ms/step - loss: 0.5289 - acc: 0.8667 - val_loss: 0.7311 - val_acc: 0.6667\n",
      "Epoch 41/100\n",
      "15/15 [==============================] - 2s 114ms/step - loss: 0.6965 - acc: 0.7556 - val_loss: 0.6822 - val_acc: 0.7333\n",
      "Epoch 42/100\n",
      "15/15 [==============================] - 2s 113ms/step - loss: 0.6018 - acc: 0.7778 - val_loss: 0.7261 - val_acc: 0.6667\n",
      "Epoch 43/100\n",
      "15/15 [==============================] - 2s 111ms/step - loss: 0.7467 - acc: 0.6889 - val_loss: 0.9736 - val_acc: 0.6000\n",
      "Epoch 44/100\n",
      "15/15 [==============================] - 2s 104ms/step - loss: 0.7680 - acc: 0.6889 - val_loss: 0.9100 - val_acc: 0.5333\n",
      "Epoch 45/100\n",
      "15/15 [==============================] - 2s 106ms/step - loss: 0.6176 - acc: 0.7778 - val_loss: 0.7182 - val_acc: 0.7333\n",
      "Epoch 46/100\n",
      "15/15 [==============================] - 2s 120ms/step - loss: 0.6670 - acc: 0.7778 - val_loss: 0.7952 - val_acc: 0.6000\n",
      "Epoch 47/100\n",
      "15/15 [==============================] - 2s 109ms/step - loss: 0.5665 - acc: 0.8222 - val_loss: 0.7070 - val_acc: 0.7333\n",
      "Epoch 48/100\n",
      "15/15 [==============================] - 2s 115ms/step - loss: 0.6675 - acc: 0.7111 - val_loss: 0.6721 - val_acc: 0.8000\n",
      "Epoch 49/100\n",
      "15/15 [==============================] - 2s 113ms/step - loss: 0.5833 - acc: 0.8000 - val_loss: 0.7288 - val_acc: 0.5333\n",
      "Epoch 50/100\n",
      "15/15 [==============================] - 2s 109ms/step - loss: 0.7202 - acc: 0.7778 - val_loss: 0.7686 - val_acc: 0.6000\n",
      "Epoch 51/100\n",
      "15/15 [==============================] - 2s 108ms/step - loss: 0.6248 - acc: 0.8000 - val_loss: 0.6905 - val_acc: 0.7333\n",
      "Epoch 52/100\n",
      "15/15 [==============================] - 2s 109ms/step - loss: 0.7103 - acc: 0.7111 - val_loss: 0.6483 - val_acc: 0.7333\n",
      "Epoch 53/100\n",
      "15/15 [==============================] - 2s 107ms/step - loss: 0.6076 - acc: 0.7778 - val_loss: 0.8251 - val_acc: 0.6667\n",
      "Epoch 54/100\n",
      "15/15 [==============================] - 2s 117ms/step - loss: 0.5165 - acc: 0.8667 - val_loss: 0.6862 - val_acc: 0.8000\n",
      "Epoch 55/100\n",
      "15/15 [==============================] - 2s 118ms/step - loss: 0.5958 - acc: 0.7778 - val_loss: 0.8129 - val_acc: 0.5333\n",
      "Epoch 56/100\n",
      "15/15 [==============================] - 2s 118ms/step - loss: 0.6329 - acc: 0.7778 - val_loss: 0.8070 - val_acc: 0.6667\n",
      "Epoch 57/100\n",
      "15/15 [==============================] - 2s 122ms/step - loss: 0.4812 - acc: 0.8667 - val_loss: 0.7392 - val_acc: 0.6667\n",
      "Epoch 58/100\n",
      "15/15 [==============================] - 2s 124ms/step - loss: 0.6644 - acc: 0.7778 - val_loss: 0.7555 - val_acc: 0.6667\n",
      "Epoch 59/100\n",
      "15/15 [==============================] - 2s 117ms/step - loss: 0.6096 - acc: 0.8000 - val_loss: 0.9135 - val_acc: 0.7333\n",
      "Epoch 60/100\n",
      "15/15 [==============================] - 2s 112ms/step - loss: 1.0818 - acc: 0.6444 - val_loss: 0.9235 - val_acc: 0.5333\n",
      "Epoch 61/100\n",
      "15/15 [==============================] - 2s 108ms/step - loss: 0.8527 - acc: 0.6889 - val_loss: 0.8649 - val_acc: 0.6667\n",
      "Epoch 62/100\n"
     ]
    },
    {
     "name": "stdout",
     "output_type": "stream",
     "text": [
      "15/15 [==============================] - 2s 120ms/step - loss: 0.7172 - acc: 0.7778 - val_loss: 1.1355 - val_acc: 0.7333\n",
      "Epoch 63/100\n",
      "15/15 [==============================] - 2s 111ms/step - loss: 0.7717 - acc: 0.7778 - val_loss: 0.8295 - val_acc: 0.7333\n",
      "Epoch 64/100\n",
      "15/15 [==============================] - 2s 113ms/step - loss: 0.5056 - acc: 0.8000 - val_loss: 0.9296 - val_acc: 0.7333\n",
      "Epoch 65/100\n",
      "15/15 [==============================] - 2s 108ms/step - loss: 0.5708 - acc: 0.8222 - val_loss: 0.8474 - val_acc: 0.7333\n",
      "Epoch 66/100\n",
      "15/15 [==============================] - 2s 114ms/step - loss: 0.5596 - acc: 0.8000 - val_loss: 0.8052 - val_acc: 0.7333\n",
      "Epoch 67/100\n",
      "15/15 [==============================] - 2s 115ms/step - loss: 0.6712 - acc: 0.7778 - val_loss: 0.7889 - val_acc: 0.7333\n",
      "Epoch 68/100\n",
      "15/15 [==============================] - 2s 113ms/step - loss: 0.8325 - acc: 0.7111 - val_loss: 0.7833 - val_acc: 0.7333\n",
      "Epoch 69/100\n",
      "15/15 [==============================] - 2s 103ms/step - loss: 0.7122 - acc: 0.6889 - val_loss: 0.8344 - val_acc: 0.6667\n",
      "Epoch 70/100\n",
      "15/15 [==============================] - 2s 106ms/step - loss: 0.6833 - acc: 0.7556 - val_loss: 0.8463 - val_acc: 0.6667\n",
      "Epoch 71/100\n",
      "15/15 [==============================] - 2s 110ms/step - loss: 0.9627 - acc: 0.6222 - val_loss: 0.9050 - val_acc: 0.6000\n",
      "Epoch 72/100\n",
      "15/15 [==============================] - 2s 110ms/step - loss: 0.7852 - acc: 0.7333 - val_loss: 0.7762 - val_acc: 0.7333\n",
      "Epoch 73/100\n",
      "15/15 [==============================] - 2s 107ms/step - loss: 0.5684 - acc: 0.8000 - val_loss: 0.7540 - val_acc: 0.7333\n",
      "Epoch 74/100\n",
      "15/15 [==============================] - 2s 110ms/step - loss: 0.6342 - acc: 0.7778 - val_loss: 0.7731 - val_acc: 0.6667\n",
      "Epoch 75/100\n",
      "15/15 [==============================] - 2s 111ms/step - loss: 0.7491 - acc: 0.7333 - val_loss: 1.4397 - val_acc: 0.4000\n",
      "Epoch 76/100\n",
      "15/15 [==============================] - 2s 108ms/step - loss: 0.8029 - acc: 0.6889 - val_loss: 0.8192 - val_acc: 0.6667\n",
      "Epoch 77/100\n",
      "15/15 [==============================] - 2s 114ms/step - loss: 0.5450 - acc: 0.8000 - val_loss: 0.8907 - val_acc: 0.7333\n",
      "Epoch 78/100\n",
      "15/15 [==============================] - 1s 98ms/step - loss: 0.7166 - acc: 0.7333 - val_loss: 0.8289 - val_acc: 0.7333\n",
      "Epoch 79/100\n",
      "15/15 [==============================] - 1s 61ms/step - loss: 0.5134 - acc: 0.8444 - val_loss: 0.7854 - val_acc: 0.6000\n",
      "Epoch 80/100\n",
      "15/15 [==============================] - 1s 69ms/step - loss: 0.4008 - acc: 0.9111 - val_loss: 0.7921 - val_acc: 0.7333\n",
      "Epoch 81/100\n",
      "15/15 [==============================] - 1s 61ms/step - loss: 0.8206 - acc: 0.6889 - val_loss: 0.9179 - val_acc: 0.6000\n",
      "Epoch 82/100\n",
      "15/15 [==============================] - 1s 58ms/step - loss: 0.6287 - acc: 0.7778 - val_loss: 0.9675 - val_acc: 0.7333\n",
      "Epoch 83/100\n",
      "15/15 [==============================] - 1s 55ms/step - loss: 0.7206 - acc: 0.7556 - val_loss: 0.8306 - val_acc: 0.6667\n",
      "Epoch 84/100\n",
      "15/15 [==============================] - 1s 59ms/step - loss: 0.6291 - acc: 0.8222 - val_loss: 0.7997 - val_acc: 0.7333\n",
      "Epoch 85/100\n",
      "15/15 [==============================] - 1s 58ms/step - loss: 0.6298 - acc: 0.8000 - val_loss: 0.8364 - val_acc: 0.6667\n",
      "Epoch 86/100\n",
      "15/15 [==============================] - 1s 58ms/step - loss: 0.5190 - acc: 0.8222 - val_loss: 0.9256 - val_acc: 0.6000\n",
      "Epoch 87/100\n",
      "15/15 [==============================] - 1s 56ms/step - loss: 0.6765 - acc: 0.7778 - val_loss: 0.8739 - val_acc: 0.7333\n",
      "Epoch 88/100\n",
      "15/15 [==============================] - 1s 54ms/step - loss: 0.5396 - acc: 0.7333 - val_loss: 0.9660 - val_acc: 0.4667\n",
      "Epoch 89/100\n",
      "15/15 [==============================] - 1s 57ms/step - loss: 0.7593 - acc: 0.8222 - val_loss: 0.9301 - val_acc: 0.7333\n",
      "Epoch 90/100\n",
      "15/15 [==============================] - 1s 57ms/step - loss: 0.7014 - acc: 0.7333 - val_loss: 0.8338 - val_acc: 0.7333\n",
      "Epoch 91/100\n",
      "15/15 [==============================] - 1s 58ms/step - loss: 0.7500 - acc: 0.7111 - val_loss: 0.9087 - val_acc: 0.6667\n",
      "Epoch 92/100\n",
      "15/15 [==============================] - 1s 57ms/step - loss: 0.5260 - acc: 0.8000 - val_loss: 0.8356 - val_acc: 0.6667\n",
      "Epoch 93/100\n",
      "15/15 [==============================] - 1s 55ms/step - loss: 0.7757 - acc: 0.6444 - val_loss: 0.8488 - val_acc: 0.6667\n",
      "Epoch 94/100\n",
      "15/15 [==============================] - 1s 54ms/step - loss: 0.7988 - acc: 0.7333 - val_loss: 0.8368 - val_acc: 0.5333\n",
      "Epoch 95/100\n",
      "15/15 [==============================] - 1s 57ms/step - loss: 0.3791 - acc: 0.9111 - val_loss: 1.1237 - val_acc: 0.6667\n",
      "Epoch 96/100\n",
      "15/15 [==============================] - 1s 57ms/step - loss: 0.6530 - acc: 0.8222 - val_loss: 0.8171 - val_acc: 0.7333\n",
      "Epoch 97/100\n",
      "15/15 [==============================] - 1s 57ms/step - loss: 0.6299 - acc: 0.7556 - val_loss: 0.6913 - val_acc: 0.7333\n",
      "Epoch 98/100\n",
      "15/15 [==============================] - 1s 56ms/step - loss: 0.4917 - acc: 0.8222 - val_loss: 0.7770 - val_acc: 0.7333\n",
      "Epoch 99/100\n",
      "15/15 [==============================] - 1s 56ms/step - loss: 0.4529 - acc: 0.8000 - val_loss: 0.7631 - val_acc: 0.8000\n",
      "Epoch 100/100\n",
      "15/15 [==============================] - 1s 56ms/step - loss: 0.7959 - acc: 0.7333 - val_loss: 0.9247 - val_acc: 0.7333\n"
     ]
    }
   ],
   "source": [
    "class outputImages(keras.callbacks.Callback):\n",
    "    def __init__(self, input_data):\n",
    "        self.input_data = input_data\n",
    "    \n",
    "    def on_epoch_end(self, epoch, logs={}):\n",
    "        if epoch % 10 == 0:\n",
    "            get_model_layers_output_combined_image(self.model, self.input_data)\n",
    "            \n",
    "output_images = outputImages(keras.callbacks.Callback)\n",
    "history = model.fit_generator(\n",
    "        train_generator,\n",
    "        steps_per_epoch=15,\n",
    "        epochs=100,\n",
    "        validation_data=test_generator,\n",
    "        validation_steps=5)"
   ]
  },
  {
   "cell_type": "markdown",
   "metadata": {},
   "source": [
    "(7) 모델 학습 모니터링 하기"
   ]
  },
  {
   "cell_type": "code",
   "execution_count": 27,
   "metadata": {},
   "outputs": [
    {
     "data": {
      "image/png": "[encoded data removed]",
      "text/plain": [
       "<matplotlib.figure.Figure at 0x17524e0a668>"
      ]
     },
     "metadata": {},
     "output_type": "display_data"
    }
   ],
   "source": [
    "fig, loss_ax = plt.subplots()\n",
    "\n",
    "acc_ax = loss_ax.twinx()\n",
    "\n",
    "loss_ax.plot(history.history['loss'], 'y', label='train loss')\n",
    "loss_ax.plot(history.history['val_loss'], 'r', label='val loss')\n",
    "\n",
    "acc_ax.plot(history.history['acc'], 'b', label='train acc')\n",
    "acc_ax.plot(history.history['val_acc'], 'g', label='val acc')\n",
    "\n",
    "loss_ax.set_xlabel('epoch')\n",
    "loss_ax.set_ylabel('loss')\n",
    "acc_ax.set_ylabel('accuracy')\n",
    "\n",
    "loss_ax.legend(loc='upper left')\n",
    "acc_ax.legend(loc='lower left')\n",
    "\n",
    "plt.show()"
   ]
  },
  {
   "cell_type": "markdown",
   "metadata": {},
   "source": [
    "(8) 검증 모델 테스트 예시"
   ]
  },
  {
   "cell_type": "code",
   "execution_count": 28,
   "metadata": {},
   "outputs": [
    {
     "name": "stdout",
     "output_type": "stream",
     "text": [
      "-- Test --\n",
      "{'mildew': 0, 'mold': 1, 'mosaic': 2, 'rust': 3}\n",
      "[[0.992 0.001 0.000 0.007]\n",
      " [0.953 0.014 0.007 0.027]\n",
      " [0.817 0.065 0.043 0.074]\n",
      " [0.901 0.033 0.021 0.045]\n",
      " [0.000 0.000 0.000 1.000]\n",
      " [0.929 0.022 0.011 0.039]\n",
      " [0.861 0.047 0.030 0.062]\n",
      " [0.965 0.009 0.002 0.023]\n",
      " [0.788 0.089 0.043 0.080]\n",
      " [0.993 0.001 0.000 0.006]\n",
      " [0.948 0.014 0.006 0.033]\n",
      " [0.309 0.448 0.182 0.061]\n",
      " [0.884 0.046 0.022 0.048]\n",
      " [0.910 0.062 0.004 0.024]\n",
      " [0.972 0.006 0.003 0.019]]\n"
     ]
    }
   ],
   "source": [
    "print(\"-- Test --\")\n",
    "output = model.predict_generator(test_generator, steps=5)\n",
    "np.set_printoptions(formatter={'float': lambda x: \"{0:0.3f}\".format(x)})\n",
    "print(test_generator.class_indices)\n",
    "print(output)"
   ]
  },
  {
   "cell_type": "markdown",
   "metadata": {},
   "source": [
    "(9) 모델 평가하기"
   ]
  },
  {
   "cell_type": "code",
   "execution_count": 29,
   "metadata": {},
   "outputs": [
    {
     "name": "stdout",
     "output_type": "stream",
     "text": [
      "-- Evaluate --\n",
      "acc: 73.33%\n"
     ]
    }
   ],
   "source": [
    "print(\"-- Evaluate --\")\n",
    "scores = model.evaluate_generator(test_generator, steps=5)\n",
    "print(\"%s: %.2f%%\" %(model.metrics_names[1], scores[1]*100))"
   ]
  },
  {
   "cell_type": "markdown",
   "metadata": {},
   "source": [
    "(10) 모델 구조 및 학습된 모델 가중치 저장하기"
   ]
  },
  {
   "cell_type": "code",
   "execution_count": 30,
   "metadata": {},
   "outputs": [],
   "source": [
    "model.save('leaf_diseaseG.h5')\n",
    "with open('model_architectureG.json', 'w') as f:\n",
    "    f.write(model.to_json())\n",
    "#model.load_weights('leaf_disease.h5')"
   ]
  },
  {
   "cell_type": "code",
   "execution_count": null,
   "metadata": {},
   "outputs": [],
   "source": []
  },
  {
   "cell_type": "code",
   "execution_count": null,
   "metadata": {},
   "outputs": [],
   "source": []
  },
  {
   "cell_type": "code",
   "execution_count": null,
   "metadata": {},
   "outputs": [],
   "source": []
  }
 ],
 "metadata": {
  "kernelspec": {
   "display_name": "Python [default]",
   "language": "python",
   "name": "python3"
  },
  "language_info": {
   "codemirror_mode": {
    "name": "ipython",
    "version": 3
   },
   "file_extension": ".py",
   "mimetype": "text/x-python",
   "name": "python",
   "nbconvert_exporter": "python",
   "pygments_lexer": "ipython3",
   "version": "3.6.4"
  }
 },
 "nbformat": 4,
 "nbformat_minor": 2
}
