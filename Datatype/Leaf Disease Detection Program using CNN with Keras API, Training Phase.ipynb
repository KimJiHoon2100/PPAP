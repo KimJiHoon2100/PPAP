{
 "cells": [
  {
   "cell_type": "markdown",
   "metadata": {},
   "source": [
    "# Leaf Disease Detection Program using CNN with Keras API"
   ]
  },
  {
   "cell_type": "markdown",
   "metadata": {},
   "source": [
    "# Training Phase"
   ]
  },
  {
   "cell_type": "markdown",
   "metadata": {},
   "source": [
    "(1) 사용할 패키지 불러오기"
   ]
  },
  {
   "cell_type": "code",
   "execution_count": 31,
   "metadata": {},
   "outputs": [],
   "source": [
    "import numpy as np\n",
    "import keras\n",
    "%matplotlib inline\n",
    "import matplotlib.pyplot as plt\n",
    "from keras.preprocessing.image import ImageDataGenerator\n",
    "from keras.models import Sequential\n",
    "from keras.layers import Dense\n",
    "from keras.layers import Flatten\n",
    "from keras.layers.convolutional import Conv2D\n",
    "from keras.layers.convolutional import MaxPooling2D\n",
    "from keras.utils.vis_utils import plot_model\n",
    "from keras.models import load_model"
   ]
  },
  {
   "cell_type": "markdown",
   "metadata": {},
   "source": [
    "(2) 데이터 셋 불러오기, 생성하기"
   ]
  },
  {
   "cell_type": "code",
   "execution_count": 32,
   "metadata": {
    "scrolled": true
   },
   "outputs": [
    {
     "name": "stdout",
     "output_type": "stream",
     "text": [
      "Found 4522 images belonging to 4 classes.\n",
      "Found 1134 images belonging to 4 classes.\n"
     ]
    }
   ],
   "source": [
    "np.random.seed(3)\n",
    "\n",
    "train_datagen = ImageDataGenerator(rescale = 1./255,\n",
    "                                   rotation_range = 10,\n",
    "                                   width_shift_range = 10,\n",
    "                                   height_shift_range = 0.2,\n",
    "                                   shear_range = 0.7,\n",
    "                                   zoom_range = [0.9, 2.2],\n",
    "                                   horizontal_flip = True,\n",
    "                                   vertical_flip = True,\n",
    "                                   fill_mode = 'nearest')\n",
    "\n",
    "train_generator = train_datagen.flow_from_directory('rawData/train',\n",
    "                                                    target_size = (32,32),\n",
    "                                                    batch_size = 3,\n",
    "                                                    class_mode = 'categorical')\n",
    "\n",
    "test_datagen = ImageDataGenerator(rescale = 1./255)\n",
    "\n",
    "test_generator = test_datagen.flow_from_directory('rawData/test',\n",
    "                                                  target_size = (32,32),\n",
    "                                                  batch_size = 3,\n",
    "                                                  class_mode = 'categorical')"
   ]
  },
  {
   "cell_type": "markdown",
   "metadata": {},
   "source": [
    "(3) 학습 모델 구성하기"
   ]
  },
  {
   "cell_type": "code",
   "execution_count": 33,
   "metadata": {},
   "outputs": [],
   "source": [
    "model = Sequential()\n",
    "model.add(Conv2D(32, kernel_size = (3,3), activation = 'relu', input_shape = (32,32,3)))\n",
    "model.add(Conv2D(64, (3,3), activation= 'relu'))\n",
    "model.add(MaxPooling2D(pool_size=(2,2)))\n",
    "model.add(Flatten())\n",
    "model.add(Dense(128, activation = 'relu'))\n",
    "model.add(Dense(4, activation = 'softmax'))"
   ]
  },
  {
   "cell_type": "markdown",
   "metadata": {},
   "source": [
    "(4) 모델 학습과정 설정하기"
   ]
  },
  {
   "cell_type": "code",
   "execution_count": 34,
   "metadata": {},
   "outputs": [],
   "source": [
    "model.compile(loss = 'categorical_crossentropy', optimizer = 'adam', metrics=['accuracy'])"
   ]
  },
  {
   "cell_type": "markdown",
   "metadata": {},
   "source": [
    "(5) 학습 모델 표시하기"
   ]
  },
  {
   "cell_type": "code",
   "execution_count": 35,
   "metadata": {
    "scrolled": true
   },
   "outputs": [
    {
     "name": "stdout",
     "output_type": "stream",
     "text": [
      "_________________________________________________________________\n",
      "Layer (type)                 Output Shape              Param #   \n",
      "=================================================================\n",
      "conv2d_7 (Conv2D)            (None, 30, 30, 32)        896       \n",
      "_________________________________________________________________\n",
      "conv2d_8 (Conv2D)            (None, 28, 28, 64)        18496     \n",
      "_________________________________________________________________\n",
      "max_pooling2d_4 (MaxPooling2 (None, 14, 14, 64)        0         \n",
      "_________________________________________________________________\n",
      "flatten_4 (Flatten)          (None, 12544)             0         \n",
      "_________________________________________________________________\n",
      "dense_7 (Dense)              (None, 128)               1605760   \n",
      "_________________________________________________________________\n",
      "dense_8 (Dense)              (None, 4)                 516       \n",
      "=================================================================\n",
      "Total params: 1,625,668\n",
      "Trainable params: 1,625,668\n",
      "Non-trainable params: 0\n",
      "_________________________________________________________________\n"
     ]
    }
   ],
   "source": [
    "plot_model(model, to_file='model.png', show_shapes =True, show_layer_names = True, rankdir = 'TB')\n",
    "model.summary()"
   ]
  },
  {
   "cell_type": "markdown",
   "metadata": {},
   "source": [
    "(6) 모델 학습시키기"
   ]
  },
  {
   "cell_type": "code",
   "execution_count": 36,
   "metadata": {},
   "outputs": [
    {
     "name": "stdout",
     "output_type": "stream",
     "text": [
      "Epoch 1/100\n",
      "15/15 [==============================] - 1s 91ms/step - loss: 1.1207 - acc: 0.4667 - val_loss: 1.2733 - val_acc: 0.6667\n",
      "Epoch 2/100\n",
      "15/15 [==============================] - 1s 61ms/step - loss: 1.4246 - acc: 0.5556 - val_loss: 1.2406 - val_acc: 0.5333\n",
      "Epoch 3/100\n",
      "15/15 [==============================] - 1s 72ms/step - loss: 0.8792 - acc: 0.7778 - val_loss: 0.8925 - val_acc: 0.6667\n",
      "Epoch 4/100\n",
      "15/15 [==============================] - 1s 67ms/step - loss: 0.9295 - acc: 0.6667 - val_loss: 1.0503 - val_acc: 0.6667\n",
      "Epoch 5/100\n",
      "15/15 [==============================] - 1s 72ms/step - loss: 0.6482 - acc: 0.8222 - val_loss: 0.8019 - val_acc: 0.7333\n",
      "Epoch 6/100\n",
      "15/15 [==============================] - 1s 80ms/step - loss: 0.5806 - acc: 0.7778 - val_loss: 0.7556 - val_acc: 0.7333\n",
      "Epoch 7/100\n",
      "15/15 [==============================] - 1s 56ms/step - loss: 0.6917 - acc: 0.7333 - val_loss: 0.7993 - val_acc: 0.6667\n",
      "Epoch 8/100\n",
      "15/15 [==============================] - 1s 54ms/step - loss: 0.8858 - acc: 0.6667 - val_loss: 0.7631 - val_acc: 0.6667\n",
      "Epoch 9/100\n",
      "15/15 [==============================] - 1s 54ms/step - loss: 0.6598 - acc: 0.7778 - val_loss: 1.1748 - val_acc: 0.4667\n",
      "Epoch 10/100\n",
      "15/15 [==============================] - 1s 55ms/step - loss: 0.7295 - acc: 0.7778 - val_loss: 0.7875 - val_acc: 0.7333\n",
      "Epoch 11/100\n",
      "15/15 [==============================] - 1s 57ms/step - loss: 0.5840 - acc: 0.8000 - val_loss: 0.6052 - val_acc: 0.7333\n",
      "Epoch 12/100\n",
      "15/15 [==============================] - 1s 55ms/step - loss: 0.5813 - acc: 0.8000 - val_loss: 0.8064 - val_acc: 0.7333\n",
      "Epoch 13/100\n",
      "15/15 [==============================] - 1s 54ms/step - loss: 0.6574 - acc: 0.7556 - val_loss: 1.1191 - val_acc: 0.4000\n",
      "Epoch 14/100\n",
      "15/15 [==============================] - 1s 54ms/step - loss: 0.6214 - acc: 0.8667 - val_loss: 0.6591 - val_acc: 0.8000\n",
      "Epoch 15/100\n",
      "15/15 [==============================] - 1s 56ms/step - loss: 0.7143 - acc: 0.7778 - val_loss: 0.6159 - val_acc: 0.7333\n",
      "Epoch 16/100\n",
      "15/15 [==============================] - 1s 57ms/step - loss: 0.5828 - acc: 0.8000 - val_loss: 2.3162 - val_acc: 0.3333\n",
      "Epoch 17/100\n",
      "15/15 [==============================] - 1s 57ms/step - loss: 0.6947 - acc: 0.8222 - val_loss: 1.5331 - val_acc: 0.6667\n",
      "Epoch 18/100\n",
      "15/15 [==============================] - 1s 57ms/step - loss: 1.0045 - acc: 0.6667 - val_loss: 0.9338 - val_acc: 0.6667\n",
      "Epoch 19/100\n",
      "15/15 [==============================] - 1s 55ms/step - loss: 0.5920 - acc: 0.8222 - val_loss: 0.7480 - val_acc: 0.7333\n",
      "Epoch 20/100\n",
      "15/15 [==============================] - 1s 55ms/step - loss: 0.5913 - acc: 0.8000 - val_loss: 0.6851 - val_acc: 0.7333\n",
      "Epoch 21/100\n",
      "15/15 [==============================] - 1s 56ms/step - loss: 0.5129 - acc: 0.8000 - val_loss: 1.5771 - val_acc: 0.2000\n",
      "Epoch 22/100\n",
      "15/15 [==============================] - 1s 65ms/step - loss: 0.9316 - acc: 0.6000 - val_loss: 0.6654 - val_acc: 0.7333\n",
      "Epoch 23/100\n",
      "15/15 [==============================] - 1s 69ms/step - loss: 0.5707 - acc: 0.9111 - val_loss: 0.9169 - val_acc: 0.7333\n",
      "Epoch 24/100\n",
      "15/15 [==============================] - 1s 66ms/step - loss: 0.6256 - acc: 0.8000 - val_loss: 0.5830 - val_acc: 0.8000\n",
      "Epoch 25/100\n",
      "15/15 [==============================] - 1s 64ms/step - loss: 0.5971 - acc: 0.7111 - val_loss: 0.6404 - val_acc: 0.8000\n",
      "Epoch 26/100\n",
      "15/15 [==============================] - 1s 58ms/step - loss: 0.6573 - acc: 0.7556 - val_loss: 0.6891 - val_acc: 0.8667\n",
      "Epoch 27/100\n",
      "15/15 [==============================] - 1s 62ms/step - loss: 0.7140 - acc: 0.7778 - val_loss: 0.5225 - val_acc: 0.8000\n",
      "Epoch 28/100\n",
      "15/15 [==============================] - 1s 61ms/step - loss: 0.3624 - acc: 0.8667 - val_loss: 0.5738 - val_acc: 0.8000\n",
      "Epoch 29/100\n",
      "15/15 [==============================] - 1s 60ms/step - loss: 0.2970 - acc: 0.8889 - val_loss: 0.7038 - val_acc: 0.7333\n",
      "Epoch 30/100\n",
      "15/15 [==============================] - 1s 61ms/step - loss: 0.6371 - acc: 0.7556 - val_loss: 0.4848 - val_acc: 0.8000\n",
      "Epoch 31/100\n",
      "15/15 [==============================] - 1s 64ms/step - loss: 0.6089 - acc: 0.7333 - val_loss: 0.9572 - val_acc: 0.7333\n",
      "Epoch 32/100\n",
      "15/15 [==============================] - 1s 70ms/step - loss: 0.7852 - acc: 0.7333 - val_loss: 0.6265 - val_acc: 0.8000\n",
      "Epoch 33/100\n",
      "15/15 [==============================] - 1s 65ms/step - loss: 0.7079 - acc: 0.7333 - val_loss: 0.4577 - val_acc: 0.8000\n",
      "Epoch 34/100\n",
      "15/15 [==============================] - 1s 75ms/step - loss: 0.6300 - acc: 0.7333 - val_loss: 0.6273 - val_acc: 0.7333\n",
      "Epoch 35/100\n",
      "15/15 [==============================] - 1s 67ms/step - loss: 0.3190 - acc: 0.8667 - val_loss: 0.4219 - val_acc: 0.8000\n",
      "Epoch 36/100\n",
      "15/15 [==============================] - 1s 74ms/step - loss: 0.3855 - acc: 0.8222 - val_loss: 1.0632 - val_acc: 0.6667\n",
      "Epoch 37/100\n",
      "15/15 [==============================] - 1s 73ms/step - loss: 0.7661 - acc: 0.7778 - val_loss: 0.5743 - val_acc: 0.7333\n",
      "Epoch 38/100\n",
      "15/15 [==============================] - 1s 67ms/step - loss: 0.5766 - acc: 0.8222 - val_loss: 0.4502 - val_acc: 0.8000\n",
      "Epoch 39/100\n",
      "15/15 [==============================] - 1s 62ms/step - loss: 0.5770 - acc: 0.8000 - val_loss: 0.4197 - val_acc: 0.8000\n",
      "Epoch 40/100\n",
      "15/15 [==============================] - 1s 63ms/step - loss: 0.7723 - acc: 0.7778 - val_loss: 0.7304 - val_acc: 0.7333\n",
      "Epoch 41/100\n",
      "15/15 [==============================] - 1s 58ms/step - loss: 0.7578 - acc: 0.7333 - val_loss: 0.6022 - val_acc: 0.8000\n",
      "Epoch 42/100\n",
      "15/15 [==============================] - 1s 64ms/step - loss: 0.5668 - acc: 0.8000 - val_loss: 0.4879 - val_acc: 0.8667\n",
      "Epoch 43/100\n",
      "15/15 [==============================] - 1s 64ms/step - loss: 0.4717 - acc: 0.8444 - val_loss: 0.4560 - val_acc: 0.8000\n",
      "Epoch 44/100\n",
      "15/15 [==============================] - 1s 64ms/step - loss: 0.5627 - acc: 0.8000 - val_loss: 0.5647 - val_acc: 0.8667\n",
      "Epoch 45/100\n",
      "15/15 [==============================] - 1s 81ms/step - loss: 0.4557 - acc: 0.8222 - val_loss: 0.4660 - val_acc: 0.8000\n",
      "Epoch 46/100\n",
      "15/15 [==============================] - 1s 56ms/step - loss: 0.5655 - acc: 0.7556 - val_loss: 1.0123 - val_acc: 0.6667\n",
      "Epoch 47/100\n",
      "15/15 [==============================] - 1s 56ms/step - loss: 0.5010 - acc: 0.8000 - val_loss: 0.5951 - val_acc: 0.8667\n",
      "Epoch 48/100\n",
      "15/15 [==============================] - 1s 57ms/step - loss: 0.6619 - acc: 0.7333 - val_loss: 0.4732 - val_acc: 0.8000\n",
      "Epoch 49/100\n",
      "15/15 [==============================] - 1s 57ms/step - loss: 0.4056 - acc: 0.8667 - val_loss: 0.5276 - val_acc: 0.8667\n",
      "Epoch 50/100\n",
      "15/15 [==============================] - 1s 56ms/step - loss: 0.4552 - acc: 0.8222 - val_loss: 0.4698 - val_acc: 0.8667\n",
      "Epoch 51/100\n",
      "15/15 [==============================] - 1s 57ms/step - loss: 0.4845 - acc: 0.8222 - val_loss: 0.5602 - val_acc: 0.8000\n",
      "Epoch 52/100\n",
      "15/15 [==============================] - 1s 58ms/step - loss: 0.6399 - acc: 0.7333 - val_loss: 0.5104 - val_acc: 0.8000\n",
      "Epoch 53/100\n",
      "15/15 [==============================] - 1s 57ms/step - loss: 0.8764 - acc: 0.7111 - val_loss: 0.9016 - val_acc: 0.6000\n",
      "Epoch 54/100\n",
      "15/15 [==============================] - 1s 56ms/step - loss: 0.6906 - acc: 0.7556 - val_loss: 0.6997 - val_acc: 0.8000\n",
      "Epoch 55/100\n",
      "15/15 [==============================] - 1s 64ms/step - loss: 0.6998 - acc: 0.7333 - val_loss: 0.4667 - val_acc: 0.8667\n",
      "Epoch 56/100\n",
      "15/15 [==============================] - 1s 63ms/step - loss: 0.7229 - acc: 0.7333 - val_loss: 0.3730 - val_acc: 0.8667\n",
      "Epoch 57/100\n",
      "15/15 [==============================] - 1s 63ms/step - loss: 0.3191 - acc: 0.8889 - val_loss: 0.5187 - val_acc: 0.8000\n",
      "Epoch 58/100\n",
      "15/15 [==============================] - 1s 63ms/step - loss: 0.5091 - acc: 0.8000 - val_loss: 0.8698 - val_acc: 0.6667\n",
      "Epoch 59/100\n",
      "15/15 [==============================] - 1s 70ms/step - loss: 0.8133 - acc: 0.7111 - val_loss: 0.8470 - val_acc: 0.7333\n",
      "Epoch 60/100\n",
      "15/15 [==============================] - 1s 64ms/step - loss: 0.5003 - acc: 0.8000 - val_loss: 0.7657 - val_acc: 0.7333\n",
      "Epoch 61/100\n",
      "15/15 [==============================] - 1s 67ms/step - loss: 0.5487 - acc: 0.8000 - val_loss: 0.5353 - val_acc: 0.7333\n",
      "Epoch 62/100\n"
     ]
    },
    {
     "name": "stdout",
     "output_type": "stream",
     "text": [
      "15/15 [==============================] - 1s 58ms/step - loss: 0.4661 - acc: 0.8000 - val_loss: 0.4656 - val_acc: 0.7333\n",
      "Epoch 63/100\n",
      "15/15 [==============================] - 1s 68ms/step - loss: 0.3919 - acc: 0.8222 - val_loss: 0.3779 - val_acc: 0.7333\n",
      "Epoch 64/100\n",
      "15/15 [==============================] - 1s 71ms/step - loss: 0.4826 - acc: 0.7778 - val_loss: 0.5260 - val_acc: 0.6667\n",
      "Epoch 65/100\n",
      "15/15 [==============================] - 1s 67ms/step - loss: 0.4267 - acc: 0.8444 - val_loss: 1.1479 - val_acc: 0.7333\n",
      "Epoch 66/100\n",
      "15/15 [==============================] - 1s 74ms/step - loss: 0.4031 - acc: 0.8222 - val_loss: 0.6410 - val_acc: 0.7333\n",
      "Epoch 67/100\n",
      "15/15 [==============================] - 1s 65ms/step - loss: 0.4813 - acc: 0.8222 - val_loss: 0.6006 - val_acc: 0.7333\n",
      "Epoch 68/100\n",
      "15/15 [==============================] - 1s 62ms/step - loss: 0.5490 - acc: 0.7111 - val_loss: 0.3319 - val_acc: 0.8667\n",
      "Epoch 69/100\n",
      "15/15 [==============================] - 1s 61ms/step - loss: 0.4642 - acc: 0.8444 - val_loss: 0.3247 - val_acc: 0.8667\n",
      "Epoch 70/100\n",
      "15/15 [==============================] - 1s 61ms/step - loss: 0.3118 - acc: 0.8217 - val_loss: 0.5057 - val_acc: 0.7333\n",
      "Epoch 71/100\n",
      "15/15 [==============================] - 1s 62ms/step - loss: 0.4766 - acc: 0.8222 - val_loss: 0.6276 - val_acc: 0.7333\n",
      "Epoch 72/100\n",
      "15/15 [==============================] - 1s 63ms/step - loss: 0.6096 - acc: 0.7111 - val_loss: 0.2459 - val_acc: 0.8667\n",
      "Epoch 73/100\n",
      "15/15 [==============================] - 1s 63ms/step - loss: 0.5937 - acc: 0.7556 - val_loss: 0.3929 - val_acc: 0.8667\n",
      "Epoch 74/100\n",
      "15/15 [==============================] - 1s 62ms/step - loss: 0.6324 - acc: 0.8000 - val_loss: 0.3792 - val_acc: 0.8667\n",
      "Epoch 75/100\n",
      "15/15 [==============================] - 1s 62ms/step - loss: 0.6177 - acc: 0.6889 - val_loss: 0.4800 - val_acc: 0.7333\n",
      "Epoch 76/100\n",
      "15/15 [==============================] - 1s 62ms/step - loss: 0.4197 - acc: 0.8000 - val_loss: 0.4004 - val_acc: 0.8667\n",
      "Epoch 77/100\n",
      "15/15 [==============================] - 1s 62ms/step - loss: 0.3263 - acc: 0.9111 - val_loss: 0.7758 - val_acc: 0.7333\n",
      "Epoch 78/100\n",
      "15/15 [==============================] - 1s 64ms/step - loss: 0.3352 - acc: 0.9333 - val_loss: 0.6157 - val_acc: 0.8667\n",
      "Epoch 79/100\n",
      "15/15 [==============================] - 1s 63ms/step - loss: 0.4155 - acc: 0.8667 - val_loss: 0.4364 - val_acc: 0.8667\n",
      "Epoch 80/100\n",
      "15/15 [==============================] - 1s 61ms/step - loss: 0.6984 - acc: 0.7778 - val_loss: 0.4459 - val_acc: 0.8667\n",
      "Epoch 81/100\n",
      "15/15 [==============================] - 1s 67ms/step - loss: 0.6609 - acc: 0.7556 - val_loss: 0.8927 - val_acc: 0.7333\n",
      "Epoch 82/100\n",
      "15/15 [==============================] - 1s 63ms/step - loss: 0.4400 - acc: 0.8667 - val_loss: 0.5654 - val_acc: 0.7333\n",
      "Epoch 83/100\n",
      "15/15 [==============================] - 1s 62ms/step - loss: 0.4357 - acc: 0.8889 - val_loss: 0.6619 - val_acc: 0.7333\n",
      "Epoch 84/100\n",
      "15/15 [==============================] - 1s 63ms/step - loss: 0.5001 - acc: 0.8000 - val_loss: 0.4371 - val_acc: 0.7333\n",
      "Epoch 85/100\n",
      "15/15 [==============================] - 1s 64ms/step - loss: 0.5078 - acc: 0.8000 - val_loss: 1.0952 - val_acc: 0.7333\n",
      "Epoch 86/100\n",
      "15/15 [==============================] - 1s 63ms/step - loss: 0.5628 - acc: 0.8222 - val_loss: 0.4226 - val_acc: 0.7333\n",
      "Epoch 87/100\n",
      "15/15 [==============================] - 1s 62ms/step - loss: 0.6204 - acc: 0.7333 - val_loss: 0.4601 - val_acc: 0.8000\n",
      "Epoch 88/100\n",
      "15/15 [==============================] - 1s 65ms/step - loss: 0.6548 - acc: 0.7556 - val_loss: 0.7674 - val_acc: 0.7333\n",
      "Epoch 89/100\n",
      "15/15 [==============================] - 1s 63ms/step - loss: 0.5812 - acc: 0.8000 - val_loss: 0.5820 - val_acc: 0.8000\n",
      "Epoch 90/100\n",
      "15/15 [==============================] - 1s 64ms/step - loss: 0.6091 - acc: 0.7333 - val_loss: 0.6201 - val_acc: 0.7333\n",
      "Epoch 91/100\n",
      "15/15 [==============================] - 1s 62ms/step - loss: 0.6043 - acc: 0.7778 - val_loss: 0.5008 - val_acc: 0.8667\n",
      "Epoch 92/100\n",
      "15/15 [==============================] - 1s 62ms/step - loss: 0.6844 - acc: 0.6889 - val_loss: 0.4684 - val_acc: 0.8000\n",
      "Epoch 93/100\n",
      "15/15 [==============================] - 1s 63ms/step - loss: 0.3229 - acc: 0.8889 - val_loss: 0.6704 - val_acc: 0.7333\n",
      "Epoch 94/100\n",
      "15/15 [==============================] - 1s 63ms/step - loss: 0.4600 - acc: 0.8222 - val_loss: 0.3603 - val_acc: 0.8000\n",
      "Epoch 95/100\n",
      "15/15 [==============================] - 1s 63ms/step - loss: 0.2584 - acc: 0.9556 - val_loss: 0.3729 - val_acc: 0.8000\n",
      "Epoch 96/100\n",
      "15/15 [==============================] - 1s 63ms/step - loss: 0.6517 - acc: 0.7556 - val_loss: 0.4341 - val_acc: 0.8000\n",
      "Epoch 97/100\n",
      "15/15 [==============================] - 1s 64ms/step - loss: 0.4209 - acc: 0.8222 - val_loss: 0.3177 - val_acc: 0.8667\n",
      "Epoch 98/100\n",
      "15/15 [==============================] - 1s 63ms/step - loss: 0.4193 - acc: 0.8444 - val_loss: 0.6258 - val_acc: 0.7333\n",
      "Epoch 99/100\n",
      "15/15 [==============================] - 1s 63ms/step - loss: 0.3339 - acc: 0.8444 - val_loss: 0.7419 - val_acc: 0.8000\n",
      "Epoch 100/100\n",
      "15/15 [==============================] - 1s 62ms/step - loss: 0.3456 - acc: 0.8667 - val_loss: 0.3473 - val_acc: 0.8667\n"
     ]
    }
   ],
   "source": [
    "class outputImages(keras.callbacks.Callback):\n",
    "    def __init__(self, input_data):\n",
    "        self.input_data = input_data\n",
    "    \n",
    "    def on_epoch_end(self, epoch, logs={}):\n",
    "        if epoch % 10 == 0:\n",
    "            get_model_layers_output_combined_image(self.model, self.input_data)\n",
    "            \n",
    "output_images = outputImages(keras.callbacks.Callback)\n",
    "history = model.fit_generator(\n",
    "        train_generator,\n",
    "        steps_per_epoch=15,\n",
    "        epochs=100,\n",
    "        validation_data=test_generator,\n",
    "        validation_steps=5)"
   ]
  },
  {
   "cell_type": "markdown",
   "metadata": {},
   "source": [
    "(7) 모델 학습 모니터링 하기"
   ]
  },
  {
   "cell_type": "code",
   "execution_count": 37,
   "metadata": {},
   "outputs": [
    {
     "data": {
      "image/png": "[encoded data removed]",
      "text/plain": [
       "<matplotlib.figure.Figure at 0x1e81e5f8780>"
      ]
     },
     "metadata": {},
     "output_type": "display_data"
    }
   ],
   "source": [
    "fig, loss_ax = plt.subplots()\n",
    "\n",
    "acc_ax = loss_ax.twinx()\n",
    "\n",
    "loss_ax.plot(history.history['loss'], 'y', label='train loss')\n",
    "loss_ax.plot(history.history['val_loss'], 'r', label='val loss')\n",
    "\n",
    "acc_ax.plot(history.history['acc'], 'b', label='train acc')\n",
    "acc_ax.plot(history.history['val_acc'], 'g', label='val acc')\n",
    "\n",
    "loss_ax.set_xlabel('epoch')\n",
    "loss_ax.set_ylabel('loss')\n",
    "acc_ax.set_ylabel('accuracy')\n",
    "\n",
    "loss_ax.legend(loc='upper left')\n",
    "acc_ax.legend(loc='lower left')\n",
    "\n",
    "plt.show()"
   ]
  },
  {
   "cell_type": "markdown",
   "metadata": {},
   "source": [
    "(8) 검증 모델 테스트 예시"
   ]
  },
  {
   "cell_type": "code",
   "execution_count": 38,
   "metadata": {},
   "outputs": [
    {
     "name": "stdout",
     "output_type": "stream",
     "text": [
      "-- Test --\n",
      "{'mildew': 0, 'mold': 1, 'mosaic': 2, 'rust': 3}\n",
      "[[0.994 0.000 0.000 0.006]\n",
      " [0.984 0.005 0.000 0.011]\n",
      " [0.933 0.016 0.000 0.050]\n",
      " [0.994 0.000 0.000 0.006]\n",
      " [0.000 0.000 0.000 1.000]\n",
      " [0.995 0.000 0.000 0.005]\n",
      " [0.968 0.010 0.000 0.023]\n",
      " [0.373 0.615 0.005 0.007]\n",
      " [0.917 0.022 0.000 0.061]\n",
      " [0.981 0.003 0.000 0.016]\n",
      " [0.994 0.000 0.000 0.006]\n",
      " [0.047 0.806 0.144 0.003]\n",
      " [0.200 0.678 0.085 0.037]\n",
      " [0.049 0.937 0.012 0.001]\n",
      " [0.989 0.001 0.000 0.010]]\n"
     ]
    }
   ],
   "source": [
    "print(\"-- Test --\")\n",
    "output = model.predict_generator(test_generator, steps=5)\n",
    "np.set_printoptions(formatter={'float': lambda x: \"{0:0.3f}\".format(x)})\n",
    "print(test_generator.class_indices)\n",
    "print(output)"
   ]
  },
  {
   "cell_type": "markdown",
   "metadata": {},
   "source": [
    "(9) 모델 평가하기"
   ]
  },
  {
   "cell_type": "code",
   "execution_count": 39,
   "metadata": {},
   "outputs": [
    {
     "name": "stdout",
     "output_type": "stream",
     "text": [
      "-- Evaluate --\n",
      "acc: 86.67%\n"
     ]
    }
   ],
   "source": [
    "print(\"-- Evaluate --\")\n",
    "scores = model.evaluate_generator(test_generator, steps=5)\n",
    "print(\"%s: %.2f%%\" %(model.metrics_names[1], scores[1]*100))"
   ]
  },
  {
   "cell_type": "markdown",
   "metadata": {},
   "source": [
    "(10) 모델 구조 및 학습된 모델 가중치 저장하기"
   ]
  },
  {
   "cell_type": "code",
   "execution_count": 40,
   "metadata": {},
   "outputs": [],
   "source": [
    "model.save('leaf_disease.h5')\n",
    "with open('model_architecture.json', 'w') as f:\n",
    "    f.write(model.to_json())\n",
    "#model.load_weights('leaf_disease.h5')"
   ]
  }
 ],
 "metadata": {
  "kernelspec": {
   "display_name": "Python [default]",
   "language": "python",
   "name": "python3"
  },
  "language_info": {
   "codemirror_mode": {
    "name": "ipython",
    "version": 3
   },
   "file_extension": ".py",
   "mimetype": "text/x-python",
   "name": "python",
   "nbconvert_exporter": "python",
   "pygments_lexer": "ipython3",
   "version": "3.6.4"
  }
 },
 "nbformat": 4,
 "nbformat_minor": 2
}
